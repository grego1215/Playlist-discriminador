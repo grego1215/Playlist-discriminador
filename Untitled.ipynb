{
 "cells": [
  {
   "cell_type": "code",
   "execution_count": 31,
   "metadata": {},
   "outputs": [
    {
     "name": "stdout",
     "output_type": "stream",
     "text": [
      "            Track Name              Artist Name(s)\n",
      "0    It Doesn't Matter       The Chemical Brothers\n",
      "1   Estación los Alpes  Buhodermia 夜, El Maese KDS\n",
      "2  Funkin' for Jamaica                  Tom Browne\n",
      "3                Crazy              Gnarls Barkley\n",
      "4               Dumebi                        Rema\n"
     ]
    },
    {
     "data": {
      "text/html": [
       "<div>\n",
       "<style scoped>\n",
       "    .dataframe tbody tr th:only-of-type {\n",
       "        vertical-align: middle;\n",
       "    }\n",
       "\n",
       "    .dataframe tbody tr th {\n",
       "        vertical-align: top;\n",
       "    }\n",
       "\n",
       "    .dataframe thead th {\n",
       "        text-align: right;\n",
       "    }\n",
       "</style>\n",
       "<table border=\"1\" class=\"dataframe\">\n",
       "  <thead>\n",
       "    <tr style=\"text-align: right;\">\n",
       "      <th></th>\n",
       "      <th>Track Name</th>\n",
       "      <th>Artist Name(s)</th>\n",
       "    </tr>\n",
       "  </thead>\n",
       "  <tbody>\n",
       "    <tr>\n",
       "      <th>0</th>\n",
       "      <td>Florecita Rockera</td>\n",
       "      <td>Aterciopelados</td>\n",
       "    </tr>\n",
       "    <tr>\n",
       "      <th>1</th>\n",
       "      <td>Caraluna</td>\n",
       "      <td>Bacilos</td>\n",
       "    </tr>\n",
       "    <tr>\n",
       "      <th>2</th>\n",
       "      <td>Mi primer millon</td>\n",
       "      <td>Bacilos</td>\n",
       "    </tr>\n",
       "    <tr>\n",
       "      <th>3</th>\n",
       "      <td>Tabaco Y Chanel</td>\n",
       "      <td>Bacilos</td>\n",
       "    </tr>\n",
       "    <tr>\n",
       "      <th>4</th>\n",
       "      <td>Mi Testimonio a.k.a. El Edificio</td>\n",
       "      <td>Bacilos</td>\n",
       "    </tr>\n",
       "  </tbody>\n",
       "</table>\n",
       "</div>"
      ],
      "text/plain": [
       "                         Track Name  Artist Name(s)\n",
       "0                 Florecita Rockera  Aterciopelados\n",
       "1                          Caraluna         Bacilos\n",
       "2                  Mi primer millon         Bacilos\n",
       "3                   Tabaco Y Chanel         Bacilos\n",
       "4  Mi Testimonio a.k.a. El Edificio         Bacilos"
      ]
     },
     "execution_count": 31,
     "metadata": {},
     "output_type": "execute_result"
    }
   ],
   "source": [
    "import pandas as pd\n",
    "#se inicializan las variables para la playlist, las canciones con like y la lista que contendrá las canciones con like que NO se encuentren ya en la playlist\n",
    "# playlist database\n",
    "playlist = pd.read_csv(\"la_playlist.csv\")\n",
    "newPlaylist=playlist[[\"Track Name\",\"Artist Name(s)\"]]\n",
    "# like database\n",
    "likeList = pd.read_csv(\"liked.csv\")\n",
    "newLikeList = likeList[[\"Track Name\", \"Artist Name(s)\"]]\n",
    "print(newLikeList.head())\n",
    "newPlaylist.head()\n"
   ]
  },
  {
   "cell_type": "code",
   "execution_count": 32,
   "metadata": {},
   "outputs": [],
   "source": [
    "\n",
    "newList=pd.merge(newPlaylist, newLikeList)"
   ]
  },
  {
   "cell_type": "code",
   "execution_count": 33,
   "metadata": {},
   "outputs": [
    {
     "data": {
      "text/plain": [
       "(748, 2)"
      ]
     },
     "execution_count": 33,
     "metadata": {},
     "output_type": "execute_result"
    }
   ],
   "source": [
    "newList.shape"
   ]
  },
  {
   "cell_type": "code",
   "execution_count": 34,
   "metadata": {},
   "outputs": [
    {
     "data": {
      "text/html": [
       "<div>\n",
       "<style scoped>\n",
       "    .dataframe tbody tr th:only-of-type {\n",
       "        vertical-align: middle;\n",
       "    }\n",
       "\n",
       "    .dataframe tbody tr th {\n",
       "        vertical-align: top;\n",
       "    }\n",
       "\n",
       "    .dataframe thead th {\n",
       "        text-align: right;\n",
       "    }\n",
       "</style>\n",
       "<table border=\"1\" class=\"dataframe\">\n",
       "  <thead>\n",
       "    <tr style=\"text-align: right;\">\n",
       "      <th></th>\n",
       "      <th>Track Name</th>\n",
       "      <th>Artist Name(s)</th>\n",
       "    </tr>\n",
       "  </thead>\n",
       "  <tbody>\n",
       "    <tr>\n",
       "      <th>0</th>\n",
       "      <td>Caraluna</td>\n",
       "      <td>Bacilos</td>\n",
       "    </tr>\n",
       "    <tr>\n",
       "      <th>1</th>\n",
       "      <td>Mi primer millon</td>\n",
       "      <td>Bacilos</td>\n",
       "    </tr>\n",
       "    <tr>\n",
       "      <th>2</th>\n",
       "      <td>Mi Testimonio a.k.a. El Edificio</td>\n",
       "      <td>Bacilos</td>\n",
       "    </tr>\n",
       "    <tr>\n",
       "      <th>3</th>\n",
       "      <td>A Dios Le Pido</td>\n",
       "      <td>Juanes</td>\n",
       "    </tr>\n",
       "    <tr>\n",
       "      <th>4</th>\n",
       "      <td>A Dios Le Pido</td>\n",
       "      <td>Juanes</td>\n",
       "    </tr>\n",
       "  </tbody>\n",
       "</table>\n",
       "</div>"
      ],
      "text/plain": [
       "                         Track Name Artist Name(s)\n",
       "0                          Caraluna        Bacilos\n",
       "1                  Mi primer millon        Bacilos\n",
       "2  Mi Testimonio a.k.a. El Edificio        Bacilos\n",
       "3                    A Dios Le Pido         Juanes\n",
       "4                    A Dios Le Pido         Juanes"
      ]
     },
     "execution_count": 34,
     "metadata": {},
     "output_type": "execute_result"
    }
   ],
   "source": [
    "newList.head()"
   ]
  },
  {
   "cell_type": "code",
   "execution_count": null,
   "metadata": {},
   "outputs": [],
   "source": []
  }
 ],
 "metadata": {
  "kernelspec": {
   "display_name": "Python 3",
   "language": "python",
   "name": "python3"
  },
  "language_info": {
   "codemirror_mode": {
    "name": "ipython",
    "version": 3
   },
   "file_extension": ".py",
   "mimetype": "text/x-python",
   "name": "python",
   "nbconvert_exporter": "python",
   "pygments_lexer": "ipython3",
   "version": "3.7.3"
  }
 },
 "nbformat": 4,
 "nbformat_minor": 2
}
